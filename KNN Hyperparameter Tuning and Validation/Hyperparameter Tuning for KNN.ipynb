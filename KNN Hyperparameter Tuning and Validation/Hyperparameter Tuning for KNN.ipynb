{
 "cells": [
  {
   "cell_type": "markdown",
   "metadata": {},
   "source": [
    "<h2 style=\"font-size:50px; font-family:Garamond; font-weight:normal; background-color:#4CAF50; color:#FFFFFF; text-align:center; border-radius:5px 5px; padding:5px\">\n",
    "    HyperParameter Tuning for KNN model\n",
    "</h2>"
   ]
  },
  {
   "cell_type": "markdown",
   "metadata": {},
   "source": [
    "![alt text](<Screenshot 2024-08-08 155524.png>)"
   ]
  },
  {
   "cell_type": "markdown",
   "metadata": {},
   "source": [
    "* How to find the Best Parameters set for the KNN Model."
   ]
  },
  {
   "cell_type": "markdown",
   "metadata": {},
   "source": [
    "<h6 style=\"font-size:50px; font-family:Garamond; font-weight:normal; background-color:#3E8E7E; color:#F5F5F5; text-align:center; border-radius:5px 5px; padding:5px\">\n",
    "    KNN\n",
    "</h6>"
   ]
  },
  {
   "cell_type": "markdown",
   "metadata": {},
   "source": [
    "<h6 style=\"font-size:25px; font-family:Garamond; font-weight:normal; background-color:#4CAF50; color:#FFFFFF; text-align:center; border-radius:5px 5px; padding:5px\">\n",
    "    Overview\n",
    "</h6>"
   ]
  },
  {
   "cell_type": "markdown",
   "metadata": {},
   "source": [
    "\n",
    "**K-Nearest Neighbors (KNN)** is a simple yet powerful algorithm used primarily for classification but can also be used for regression tasks. It’s a **supervised learning** algorithm, meaning it relies on labeled data to learn from."
   ]
  },
  {
   "cell_type": "markdown",
   "metadata": {},
   "source": [
    "\n",
    "\n",
    "<h6 style=\"font-size:25px; font-family:Garamond; font-weight:normal; background-color:#4CAF50; color:#FFFFFF; text-align:center; border-radius:5px 5px; padding:5px\">\n",
    "    How KNN Works\n",
    "</h6>\n"
   ]
  },
  {
   "cell_type": "markdown",
   "metadata": {},
   "source": [
    "1. **Data Storage:** KNN doesn’t have a training phase in the traditional sense. Instead, it stores the entire dataset during the training phase.\n",
    "2. **Distance Calculation:** When a new data point needs to be classified or predicted, KNN calculates the distance between this new point and all points in the training dataset. The most common distance metric is **Euclidean distance**, but other metrics like Manhattan or Minkowski distances can also be used.\n",
    "3. **Nearest Neighbors:** The algorithm identifies the **k** nearest neighbors (the data points closest to the new point).\n",
    "4. **Voting for Classification:** In classification tasks, the new point is assigned the class label that is most common among its k nearest neighbors.\n",
    "5. **Averaging for Regression:** In regression tasks, the algorithm averages the values of the k nearest neighbors to predict the value for the new point."
   ]
  },
  {
   "cell_type": "markdown",
   "metadata": {},
   "source": [
    "<h6 style=\"font-size:25px; font-family:Garamond; font-weight:normal; background-color:#4CAF50; color:#FFFFFF; text-align:center; border-radius:5px 5px; padding:5px\">\n",
    "    Choosing the Optimal K for KNN\n",
    "</h6>"
   ]
  },
  {
   "cell_type": "markdown",
   "metadata": {},
   "source": [
    "\n",
    "Finding the best value for **k** is crucial for the performance of KNN. If **k** is too small, the algorithm might be too sensitive to noise in the data. If **k** is too large, the algorithm might overlook important patterns.\n",
    "\n",
    "- **Elbow Method:** You can plot the error rate (or accuracy) against different values of **k** and look for the 'elbow' point where the error rate starts to level off. The corresponding **k** value is often considered optimal.\n",
    "  \n",
    "- **Cross-Validation:** You can use techniques like **k-fold cross-validation** to evaluate how the model performs with different **k** values. This involves splitting the dataset into multiple folds, training the model on some folds, and testing it on the remaining folds. The **k** value that gives the best average performance is selected.\n"
   ]
  },
  {
   "cell_type": "markdown",
   "metadata": {},
   "source": [
    "<h6 style=\"font-size:25px; font-family:Garamond; font-weight:normal; background-color:#4CAF50; color:#FFFFFF; text-align:center; border-radius:5px 5px; padding:5px\">\n",
    "    GridSearchCV and RandomizedSearchCV\n",
    "</h6>"
   ]
  },
  {
   "cell_type": "markdown",
   "metadata": {},
   "source": [
    "These two methods are used to automate the process of finding the optimal **k**:\n",
    "\n",
    "- **GridSearchCV:** This method exhaustively searches over a specified parameter grid (e.g., different **k** values). It evaluates each combination of parameters using cross-validation and selects the best combination based on a performance metric.\n",
    "\n",
    "- **RandomizedSearchCV:** Instead of searching every possible combination, this method randomly samples a specified number of parameter combinations from a grid. It’s faster than GridSearchCV and can be more efficient when dealing with a large number of parameters or a large dataset.\n"
   ]
  },
  {
   "cell_type": "markdown",
   "metadata": {},
   "source": [
    "<h6 style=\"font-size:50px; font-family:Garamond; font-weight:normal; background-color:#3E8E7E; color:#F5F5F5; text-align:center; border-radius:5px 5px; padding:5px\">\n",
    "    Apply the four Tuning methods\n",
    "</h6>"
   ]
  },
  {
   "cell_type": "markdown",
   "metadata": {},
   "source": [
    "1- Elbow method.\\\n",
    "2- cross-validation.\\\n",
    "3- GridsearchCV.\\\n",
    "4- RandomizedSearchCV."
   ]
  },
  {
   "cell_type": "code",
   "execution_count": 23,
   "metadata": {},
   "outputs": [],
   "source": [
    "# import the libraries \n",
    "import numpy as np\n",
    "import matplotlib.pyplot as plt\n",
    "import pandas as pd\n",
    "import seaborn as sns\n",
    "from sklearn.neighbors import KNeighborsClassifier\n",
    "from sklearn.metrics import accuracy_score\n",
    "from sklearn.model_selection import train_test_split\n",
    "from sklearn.model_selection import cross_val_score\n",
    "from sklearn.model_selection import GridSearchCV\n",
    "from sklearn.model_selection import RandomizedSearchCV\n"
   ]
  },
  {
   "cell_type": "code",
   "execution_count": 24,
   "metadata": {},
   "outputs": [
    {
     "data": {
      "text/html": [
       "<div>\n",
       "<style scoped>\n",
       "    .dataframe tbody tr th:only-of-type {\n",
       "        vertical-align: middle;\n",
       "    }\n",
       "\n",
       "    .dataframe tbody tr th {\n",
       "        vertical-align: top;\n",
       "    }\n",
       "\n",
       "    .dataframe thead th {\n",
       "        text-align: right;\n",
       "    }\n",
       "</style>\n",
       "<table border=\"1\" class=\"dataframe\">\n",
       "  <thead>\n",
       "    <tr style=\"text-align: right;\">\n",
       "      <th></th>\n",
       "      <th>Pregnancies</th>\n",
       "      <th>Glucose</th>\n",
       "      <th>BloodPressure</th>\n",
       "      <th>SkinThickness</th>\n",
       "      <th>Insulin</th>\n",
       "      <th>BMI</th>\n",
       "      <th>DiabetesPedigreeFunction</th>\n",
       "      <th>Age</th>\n",
       "      <th>Outcome</th>\n",
       "    </tr>\n",
       "  </thead>\n",
       "  <tbody>\n",
       "    <tr>\n",
       "      <th>0</th>\n",
       "      <td>6</td>\n",
       "      <td>148</td>\n",
       "      <td>72</td>\n",
       "      <td>35</td>\n",
       "      <td>0</td>\n",
       "      <td>33.6</td>\n",
       "      <td>0.627</td>\n",
       "      <td>50</td>\n",
       "      <td>1</td>\n",
       "    </tr>\n",
       "    <tr>\n",
       "      <th>1</th>\n",
       "      <td>1</td>\n",
       "      <td>85</td>\n",
       "      <td>66</td>\n",
       "      <td>29</td>\n",
       "      <td>0</td>\n",
       "      <td>26.6</td>\n",
       "      <td>0.351</td>\n",
       "      <td>31</td>\n",
       "      <td>0</td>\n",
       "    </tr>\n",
       "    <tr>\n",
       "      <th>2</th>\n",
       "      <td>8</td>\n",
       "      <td>183</td>\n",
       "      <td>64</td>\n",
       "      <td>0</td>\n",
       "      <td>0</td>\n",
       "      <td>23.3</td>\n",
       "      <td>0.672</td>\n",
       "      <td>32</td>\n",
       "      <td>1</td>\n",
       "    </tr>\n",
       "    <tr>\n",
       "      <th>3</th>\n",
       "      <td>1</td>\n",
       "      <td>89</td>\n",
       "      <td>66</td>\n",
       "      <td>23</td>\n",
       "      <td>94</td>\n",
       "      <td>28.1</td>\n",
       "      <td>0.167</td>\n",
       "      <td>21</td>\n",
       "      <td>0</td>\n",
       "    </tr>\n",
       "    <tr>\n",
       "      <th>4</th>\n",
       "      <td>0</td>\n",
       "      <td>137</td>\n",
       "      <td>40</td>\n",
       "      <td>35</td>\n",
       "      <td>168</td>\n",
       "      <td>43.1</td>\n",
       "      <td>2.288</td>\n",
       "      <td>33</td>\n",
       "      <td>1</td>\n",
       "    </tr>\n",
       "  </tbody>\n",
       "</table>\n",
       "</div>"
      ],
      "text/plain": [
       "   Pregnancies  Glucose  BloodPressure  SkinThickness  Insulin   BMI  \\\n",
       "0            6      148             72             35        0  33.6   \n",
       "1            1       85             66             29        0  26.6   \n",
       "2            8      183             64              0        0  23.3   \n",
       "3            1       89             66             23       94  28.1   \n",
       "4            0      137             40             35      168  43.1   \n",
       "\n",
       "   DiabetesPedigreeFunction  Age  Outcome  \n",
       "0                     0.627   50        1  \n",
       "1                     0.351   31        0  \n",
       "2                     0.672   32        1  \n",
       "3                     0.167   21        0  \n",
       "4                     2.288   33        1  "
      ]
     },
     "execution_count": 24,
     "metadata": {},
     "output_type": "execute_result"
    }
   ],
   "source": [
    "# read the dataset \n",
    "df = pd.read_csv(r'D:\\Summer 2024\\ML Projects\\KNN Hyperparameter Tuning and Validation\\diabetes.csv')\n",
    "df.head()"
   ]
  },
  {
   "cell_type": "code",
   "execution_count": 25,
   "metadata": {},
   "outputs": [
    {
     "data": {
      "text/plain": [
       "Pregnancies                 0\n",
       "Glucose                     0\n",
       "BloodPressure               0\n",
       "SkinThickness               0\n",
       "Insulin                     0\n",
       "BMI                         0\n",
       "DiabetesPedigreeFunction    0\n",
       "Age                         0\n",
       "Outcome                     0\n",
       "dtype: int64"
      ]
     },
     "execution_count": 25,
     "metadata": {},
     "output_type": "execute_result"
    }
   ],
   "source": [
    "# look at the data problems (no missing values)\n",
    "df.isna().sum()"
   ]
  },
  {
   "cell_type": "code",
   "execution_count": 26,
   "metadata": {},
   "outputs": [
    {
     "data": {
      "text/plain": [
       "Pregnancies                   int64\n",
       "Glucose                       int64\n",
       "BloodPressure                 int64\n",
       "SkinThickness                 int64\n",
       "Insulin                       int64\n",
       "BMI                         float64\n",
       "DiabetesPedigreeFunction    float64\n",
       "Age                           int64\n",
       "Outcome                       int64\n",
       "dtype: object"
      ]
     },
     "execution_count": 26,
     "metadata": {},
     "output_type": "execute_result"
    }
   ],
   "source": [
    "# datatypes (all are numerical)\n",
    "df.dtypes"
   ]
  },
  {
   "cell_type": "code",
   "execution_count": 27,
   "metadata": {},
   "outputs": [
    {
     "data": {
      "text/plain": [
       "Outcome\n",
       "0    500\n",
       "1    268\n",
       "Name: count, dtype: int64"
      ]
     },
     "execution_count": 27,
     "metadata": {},
     "output_type": "execute_result"
    }
   ],
   "source": [
    "# look at the distribution of the target variable\n",
    "df[\"Outcome\"].value_counts()"
   ]
  },
  {
   "cell_type": "code",
   "execution_count": 28,
   "metadata": {},
   "outputs": [],
   "source": [
    "# Separate features and target\n",
    "X = df.drop('Outcome', axis=1)\n",
    "y = df['Outcome']"
   ]
  },
  {
   "cell_type": "code",
   "execution_count": 29,
   "metadata": {},
   "outputs": [],
   "source": [
    "# Split the data\n",
    "X_train, X_test, y_train, y_test = train_test_split(X, y, test_size=0.2, random_state=42)"
   ]
  },
  {
   "cell_type": "markdown",
   "metadata": {},
   "source": [
    "<h6 style=\"font-size:25px; font-family:Garamond; font-weight:normal; background-color:#4CAF50; color:#FFFFFF; text-align:center; border-radius:5px 5px; padding:5px\">\n",
    "    Elbow Method\n",
    "</h6>\n",
    "\n",
    "- The Elbow Method is used to find the optimal number of neighbors (k) for KNN."
   ]
  },
  {
   "cell_type": "code",
   "execution_count": 30,
   "metadata": {},
   "outputs": [
    {
     "data": {
      "image/png": "[encoded data removed]",
      "text/plain": [
       "<Figure size 1000x600 with 1 Axes>"
      ]
     },
     "metadata": {},
     "output_type": "display_data"
    }
   ],
   "source": [
    "# Apply the Elbow method\n",
    "error_rates = []\n",
    "k_values = range(1, 20)\n",
    "\n",
    "for k in k_values:\n",
    "    knn = KNeighborsClassifier(n_neighbors=k)\n",
    "    knn.fit(X_train, y_train)\n",
    "    y_pred = knn.predict(X_test)\n",
    "    error = 1 - accuracy_score(y_test, y_pred)\n",
    "    error_rates.append(error)\n",
    "\n",
    "# Plot the Elbow curve\n",
    "plt.figure(figsize=(10, 6))\n",
    "plt.plot(k_values, error_rates, marker='o', linestyle='--')\n",
    "plt.title('Elbow Method for Optimal k')\n",
    "plt.xlabel('Number of Neighbors (k)')\n",
    "plt.ylabel('Error Rate')\n",
    "plt.show()"
   ]
  },
  {
   "cell_type": "markdown",
   "metadata": {},
   "source": [
    "- In this Elbow Method plot, the error rate decreases steadily as k increases from 1 to around 12, after which it begins to stabilize and slightly increase. The optimal k value seems to be around k = 11 or 12, where the error rate is at its lowest before it starts to rise again."
   ]
  },
  {
   "cell_type": "markdown",
   "metadata": {},
   "source": [
    "<h6 style=\"font-size:25px; font-family:Garamond; font-weight:normal; background-color:#4CAF50; color:#FFFFFF; text-align:center; border-radius:5px 5px; padding:5px\">\n",
    "    Cross-Validation\n",
    "</h6>\n",
    "\n",
    "- You can use techniques like **k-fold cross-validation** to evaluate how the model performs with different **k** values. This involves splitting the dataset into multiple folds, training the model on some folds, and testing it on the remaining folds. The **k** value that gives the best average performance is selected."
   ]
  },
  {
   "cell_type": "code",
   "execution_count": 31,
   "metadata": {},
   "outputs": [
    {
     "name": "stdout",
     "output_type": "stream",
     "text": [
      "The optimal k using cross-validation is: 14\n"
     ]
    }
   ],
   "source": [
    "# Perform cross-validation\n",
    "k_values = range(1, 20)\n",
    "cv_scores = []\n",
    "\n",
    "for k in k_values:\n",
    "    knn = KNeighborsClassifier(n_neighbors=k)\n",
    "    scores = cross_val_score(knn, X, y, cv=5, scoring='accuracy')\n",
    "    cv_scores.append(scores.mean())\n",
    "\n",
    "# Find the best k\n",
    "optimal_k = k_values[np.argmax(cv_scores)]\n",
    "print(f\"The optimal k using cross-validation is: {optimal_k}\")"
   ]
  },
  {
   "cell_type": "markdown",
   "metadata": {},
   "source": [
    "- cross-validation often provides a more accurate estimate of the optimal k, especially if it leads to a higher average accuracy or lower error rate across different data splits. Given this, k = 14 would be the better choice."
   ]
  },
  {
   "cell_type": "markdown",
   "metadata": {},
   "source": [
    "<h6 style=\"font-size:25px; font-family:Garamond; font-weight:normal; background-color:#4CAF50; color:#FFFFFF; text-align:center; border-radius:5px 5px; padding:5px\">\n",
    "    GridsearchCV\n",
    "</h6>\n",
    "\n",
    "- GridSearchCV will exhaustively search over the specified parameter values to find the optimal k."
   ]
  },
  {
   "cell_type": "code",
   "execution_count": 32,
   "metadata": {},
   "outputs": [
    {
     "name": "stdout",
     "output_type": "stream",
     "text": [
      "Best k using GridSearchCV: 14\n",
      "Best cross-validation accuracy: 0.7578558696205755\n"
     ]
    }
   ],
   "source": [
    "# Define the parameter grid\n",
    "param_grid = {'n_neighbors': range(1, 20)}\n",
    "\n",
    "# Initialize the KNN model\n",
    "knn = KNeighborsClassifier()\n",
    "\n",
    "# Perform GridSearchCV\n",
    "grid_search = GridSearchCV(knn, param_grid, cv=5, scoring='accuracy')\n",
    "grid_search.fit(X, y)\n",
    "\n",
    "# Output the best parameter and score\n",
    "print(f\"Best k using GridSearchCV: {grid_search.best_params_['n_neighbors']}\")\n",
    "print(f\"Best cross-validation accuracy: {grid_search.best_score_}\")"
   ]
  },
  {
   "cell_type": "markdown",
   "metadata": {},
   "source": [
    "- Since both GridSearchCV and cross-validation agree on k = 14 as the optimal value, this strongly suggests that k = 14 is the best choice for your KNN model. These methods are more robust than the Elbow Method, as they rigorously test the model's performance across different folds of the data, leading to a more reliable selection of k."
   ]
  },
  {
   "cell_type": "markdown",
   "metadata": {},
   "source": [
    "<h6 style=\"font-size:25px; font-family:Garamond; font-weight:normal; background-color:#4CAF50; color:#FFFFFF; text-align:center; border-radius:5px 5px; padding:5px\">\n",
    "    RandomizedSearchCV\n",
    "</h6>\n",
    "\n",
    "- RandomizedSearchCV randomly samples the parameter grid to find the optimal k."
   ]
  },
  {
   "cell_type": "code",
   "execution_count": 33,
   "metadata": {},
   "outputs": [
    {
     "name": "stdout",
     "output_type": "stream",
     "text": [
      "Best k using RandomizedSearchCV: 12\n",
      "Best cross-validation accuracy: 0.7526355996944233\n"
     ]
    }
   ],
   "source": [
    "# Perform RandomizedSearchCV\n",
    "random_search = RandomizedSearchCV(knn, param_distributions=param_grid, n_iter=5, cv=5, scoring='accuracy', random_state=42)\n",
    "random_search.fit(X, y)\n",
    "\n",
    "# Output the best parameter and score\n",
    "print(f\"Best k using RandomizedSearchCV: {random_search.best_params_['n_neighbors']}\")\n",
    "print(f\"Best cross-validation accuracy: {random_search.best_score_}\")"
   ]
  },
  {
   "cell_type": "markdown",
   "metadata": {},
   "source": [
    "- Given that GridSearchCV thoroughly evaluates every possible value in a specified range and aligns with cross-validation, k = 14 may be more reliable. However, k = 12 from RandomizedSearchCV is also a valid choice, especially if you value efficiency or want to balance error rate and computational cost."
   ]
  },
  {
   "cell_type": "markdown",
   "metadata": {},
   "source": [
    "<h6 style=\"font-size:25px; font-family:Garamond; font-weight:normal; background-color:#4CAF50; color:#FFFFFF; text-align:center; border-radius:5px 5px; padding:5px\">\n",
    "    Validation Curve\n",
    "</h6>\n",
    "\n",
    "- helps in assessing how the performance of a model changes with different hyperparameters, in this case, the number of neighbors for k-NN. By plotting the training and test accuracies, you can identify the optimal number of neighbors that balances between overfitting and underfitting."
   ]
  },
  {
   "cell_type": "code",
   "execution_count": 34,
   "metadata": {},
   "outputs": [],
   "source": [
    "#Setup arrays to store training and test accuracies\n",
    "neighbors = np.arange(1,20)\n",
    "train_accuracy =np.empty(len(neighbors))\n",
    "test_accuracy = np.empty(len(neighbors))\n",
    "\n",
    "for i,k in enumerate(neighbors):\n",
    "    knn = KNeighborsClassifier(n_neighbors=k)\n",
    "    \n",
    "    #Fit the model\n",
    "    knn.fit(X_train, y_train)\n",
    "    \n",
    "    #Compute accuracy on the training set\n",
    "    train_accuracy[i] = knn.score(X_train, y_train)\n",
    "    \n",
    "    #Compute accuracy on the test set\n",
    "    test_accuracy[i] = knn.score(X_test, y_test) "
   ]
  },
  {
   "cell_type": "code",
   "execution_count": 35,
   "metadata": {},
   "outputs": [
    {
     "data": {
      "image/png": "[encoded data removed]",
      "text/plain": [
       "<Figure size 640x480 with 1 Axes>"
      ]
     },
     "metadata": {},
     "output_type": "display_data"
    }
   ],
   "source": [
    "#Generate plot\n",
    "plt.title('k-NN Varying number of neighbors')\n",
    "plt.plot(neighbors, test_accuracy, label='Testing Accuracy')\n",
    "plt.plot(neighbors, train_accuracy, label='Training accuracy')\n",
    "plt.legend()\n",
    "plt.xlabel('Number of neighbors')\n",
    "plt.ylabel('Accuracy')\n",
    "plt.show()"
   ]
  },
  {
   "cell_type": "markdown",
   "metadata": {},
   "source": [
    "<h6 style=\"font-size:25px; font-family:Garamond; font-weight:normal; background-color:#4CAF50; color:#FFFFFF; text-align:center; border-radius:5px 5px; padding:5px\">\n",
    "    Conclusion\n",
    "</h6>"
   ]
  },
  {
   "cell_type": "markdown",
   "metadata": {},
   "source": [
    "**Summary of k-NN Hyperparameter Tuning Results:**\n",
    "\n",
    "- **Elbow Method** and **RandomizedSearchCV** suggest **k = 12**.\n",
    "- **Cross-Validation**, **GridSearchCV**, and the **Validation Curve** suggest **k = 14**.\n",
    "\n",
    "**Conclusion**: While k = 12 may offer efficiency and simplicity, k = 14 generally provides better model performance and generalization. Testing both values on a validation set is recommended to finalize the optimal k."
   ]
  },
  {
   "cell_type": "code",
   "execution_count": 36,
   "metadata": {},
   "outputs": [
    {
     "name": "stdout",
     "output_type": "stream",
     "text": [
      "Accuracy for k = 12: 0.78\n",
      "Accuracy for k = 14: 0.77\n"
     ]
    }
   ],
   "source": [
    "# Split data\n",
    "X_train, X_val, y_train, y_val = train_test_split(X, y, test_size=0.2, random_state=42)\n",
    "\n",
    "# Function to evaluate k-NN models\n",
    "def evaluate_knn(k):\n",
    "    knn = KNeighborsClassifier(n_neighbors=k)\n",
    "    knn.fit(X_train, y_train)\n",
    "    y_pred = knn.predict(X_val)\n",
    "    return accuracy_score(y_val, y_pred)\n",
    "\n",
    "# Test k = 12 and k = 14\n",
    "accuracy_k12 = evaluate_knn(12)\n",
    "accuracy_k14 = evaluate_knn(14)\n",
    "\n",
    "print(f'Accuracy for k = 12: {accuracy_k12:.2f}')\n",
    "print(f'Accuracy for k = 14: {accuracy_k14:.2f}')"
   ]
  },
  {
   "cell_type": "markdown",
   "metadata": {},
   "source": [
    "### Interpretation:\n",
    "- **k = 12** has a slightly higher accuracy (0.78) compared to **k = 14** (0.77) on the validation set.\n",
    "- Both values are close in performance, but k = 12 marginally outperforms k = 14 based on these results.\n",
    "\n",
    "### Recommendation:\n",
    "- Since k = 12 has a marginally higher accuracy and similar performance to k = 14, it might be preferable for its simplicity and potentially reduced computational cost. However, the difference is small, so either choice would be reasonable, and you may consider other factors such as model complexity or computational efficiency in your final decision."
   ]
  }
 ],
 "metadata": {
  "kernelspec": {
   "display_name": "Python 3 (ipykernel)",
   "language": "python",
   "name": "python3"
  },
  "language_info": {
   "codemirror_mode": {
    "name": "ipython",
    "version": 3
   },
   "file_extension": ".py",
   "mimetype": "text/x-python",
   "name": "python",
   "nbconvert_exporter": "python",
   "pygments_lexer": "ipython3",
   "version": "3.11.0"
  }
 },
 "nbformat": 4,
 "nbformat_minor": 2
}
